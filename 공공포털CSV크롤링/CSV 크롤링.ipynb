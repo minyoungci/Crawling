{
 "cells": [
  {
   "cell_type": "code",
   "execution_count": 17,
   "id": "0726c37f",
   "metadata": {},
   "outputs": [],
   "source": [
    "import os \n",
    "from selenium import webdriver\n",
    "import chromedriver_autoinstaller\n",
    "\n",
    "import time\n",
    "from selenium.webdriver.common.by import By"
   ]
  },
  {
   "cell_type": "code",
   "execution_count": 3,
   "id": "7045c8e0",
   "metadata": {},
   "outputs": [
    {
     "data": {
      "text/plain": [
       "'114.0.5735.198'"
      ]
     },
     "execution_count": 3,
     "metadata": {},
     "output_type": "execute_result"
    }
   ],
   "source": [
    "chrome_ver = chromedriver_autoinstaller.get_chrome_version()\n",
    "chrome_ver"
   ]
  },
  {
   "cell_type": "code",
   "execution_count": 9,
   "id": "db9d84e5",
   "metadata": {},
   "outputs": [],
   "source": [
    "chromedriver_autoinstaller.install(True)\n",
    "chromedriver_path = '/Users/minyoungxi/DataScience/텍스트마이닝/114/chromedriver'"
   ]
  },
  {
   "cell_type": "code",
   "execution_count": 11,
   "id": "c24229fd",
   "metadata": {},
   "outputs": [
    {
     "name": "stdout",
     "output_type": "stream",
     "text": [
      "/Users/minyoungxi/DataScience/텍스트마이닝/114/chromedriver\n",
      "True\n",
      "chromedriver\n"
     ]
    }
   ],
   "source": [
    "print(chromedriver_path)\n",
    "print(os.path.exists(chromedriver_path))\n",
    "print(os.path.basename(chromedriver_path))"
   ]
  },
  {
   "cell_type": "code",
   "execution_count": 20,
   "id": "52cb652b",
   "metadata": {},
   "outputs": [
    {
     "name": "stderr",
     "output_type": "stream",
     "text": [
      "/var/folders/kc/pnqhxb8x4k3f1ggr1prj4mrm0000gn/T/ipykernel_22996/3127581538.py:1: DeprecationWarning: executable_path has been deprecated, please pass in a Service object\n",
      "  driver = webdriver.Chrome(executable_path=chromedriver_path)\n"
     ]
    },
    {
     "ename": "AttributeError",
     "evalue": "'WebDriver' object has no attribute 'find_elements_by_xpath'",
     "output_type": "error",
     "traceback": [
      "\u001b[0;31m---------------------------------------------------------------------------\u001b[0m",
      "\u001b[0;31mAttributeError\u001b[0m                            Traceback (most recent call last)",
      "Cell \u001b[0;32mIn[20], line 8\u001b[0m\n\u001b[1;32m      4\u001b[0m driver\u001b[38;5;241m.\u001b[39mget(\u001b[38;5;124m\"\u001b[39m\u001b[38;5;124mhttps://www.data.go.kr/tcs/dss/selectDataSetList.do?dType=FILE&keyword=\u001b[39m\u001b[38;5;132;01m%E\u001b[39;00m\u001b[38;5;124mA\u001b[39m\u001b[38;5;124m%\u001b[39m\u001b[38;5;124mB4\u001b[39m\u001b[38;5;132;01m%80%\u001b[39;00m\u001b[38;5;124mEA\u001b[39m\u001b[38;5;124m%\u001b[39m\u001b[38;5;124mB4\u001b[39m\u001b[38;5;132;01m%91%\u001b[39;00m\u001b[38;5;124mEC\u001b[39m\u001b[38;5;124m%\u001b[39m\u001b[38;5;124mA7\u001b[39m\u001b[38;5;124m%\u001b[39m\u001b[38;5;124m80+\u001b[39m\u001b[38;5;132;01m%E\u001b[39;00m\u001b[38;5;124mC\u001b[39m\u001b[38;5;124m%\u001b[39m\u001b[38;5;124mA0\u001b[39m\u001b[38;5;132;01m%95%\u001b[39;00m\u001b[38;5;124mEB\u001b[39m\u001b[38;5;124m%\u001b[39m\u001b[38;5;124mB3\u001b[39m\u001b[38;5;124m%\u001b[39m\u001b[38;5;124mB4&operator=AND&detailKeyword=&publicDataPk=&recmSe=&detailText=&relatedKeyword=&commaNotInData=&commaAndData=&commaOrData=&must_not=&tabId=&dataSetCoreTf=&coreDataNm=&sort=_score&relRadio=&orgFullName=&orgFilter=&org=&orgSearch=&currentPage=1&perPage=20&brm=&instt=&svcType=&kwrdArray=&extsn=CSV&coreDataNmArray=&pblonsipScopeCode=\u001b[39m\u001b[38;5;124m\"\u001b[39m)\n\u001b[1;32m      6\u001b[0m \u001b[38;5;28;01mwhile\u001b[39;00m \u001b[38;5;28;01mTrue\u001b[39;00m:\n\u001b[1;32m      7\u001b[0m     \u001b[38;5;66;03m# Find all elements with href starting with \"/data/\" and loop through them\u001b[39;00m\n\u001b[0;32m----> 8\u001b[0m     \u001b[38;5;28;01mfor\u001b[39;00m title_element \u001b[38;5;129;01min\u001b[39;00m \u001b[43mdriver\u001b[49m\u001b[38;5;241;43m.\u001b[39;49m\u001b[43mfind_elements_by_xpath\u001b[49m(\u001b[38;5;124m'\u001b[39m\u001b[38;5;124m//a[starts-with(@href, \u001b[39m\u001b[38;5;124m\"\u001b[39m\u001b[38;5;124m/data/\u001b[39m\u001b[38;5;124m\"\u001b[39m\u001b[38;5;124m)]\u001b[39m\u001b[38;5;124m'\u001b[39m):\n\u001b[1;32m      9\u001b[0m         \u001b[38;5;66;03m# Click on the element\u001b[39;00m\n\u001b[1;32m     10\u001b[0m         title_element\u001b[38;5;241m.\u001b[39mclick()\n\u001b[1;32m     12\u001b[0m         \u001b[38;5;66;03m# Wait for the page to load\u001b[39;00m\n",
      "\u001b[0;31mAttributeError\u001b[0m: 'WebDriver' object has no attribute 'find_elements_by_xpath'"
     ]
    }
   ],
   "source": [
    "driver = webdriver.Chrome(executable_path=chromedriver_path)\n",
    "\n",
    "# Navigate to the initial page\n",
    "driver.get(\"https://www.data.go.kr/tcs/dss/selectDataSetList.do?dType=FILE&keyword=%EA%B4%80%EA%B4%91%EC%A7%80+%EC%A0%95%EB%B3%B4&operator=AND&detailKeyword=&publicDataPk=&recmSe=&detailText=&relatedKeyword=&commaNotInData=&commaAndData=&commaOrData=&must_not=&tabId=&dataSetCoreTf=&coreDataNm=&sort=_score&relRadio=&orgFullName=&orgFilter=&org=&orgSearch=&currentPage=1&perPage=20&brm=&instt=&svcType=&kwrdArray=&extsn=CSV&coreDataNmArray=&pblonsipScopeCode=\")\n",
    "\n",
    "while True:\n",
    "    # Find all elements with href starting with \"/data/\" and loop through them\n",
    "    for title_element in driver.find_elements_by_xpath('//a[starts-with(@href, \"/data/\")]'):\n",
    "        # Click on the element\n",
    "        title_element.click()\n",
    "        \n",
    "        # Wait for the page to load\n",
    "        time.sleep(5)\n",
    "        \n",
    "        # Download the CSV file (You need to find the correct element to click for download)\n",
    "        # Replace INSERT_SELECTOR_HERE with the correct selector for the download button\n",
    "        download_button = driver.find_element_by_class_name('button just-mb')\n",
    "        download_button.click()\n",
    "        \n",
    "        # Go back to the previous page\n",
    "        driver.back()\n",
    "        \n",
    "        # Wait for the page to load\n",
    "        time.sleep(5)\n",
    "\n",
    "    # Try to find the 'Next Page' button and click it\n",
    "    try:\n",
    "        next_button = driver.find_elements_by_xpath('button just-mb')\n",
    "        next_button.click()\n",
    "        \n",
    "        # Wait for the next page to load\n",
    "        time.sleep(5)\n",
    "    except Exception as e:\n",
    "        # Break the loop if no next page button is found\n",
    "        print(\"End of pages or an error occurred:\", str(e))\n",
    "        break\n",
    "# Close the WebDriver instance\n",
    "driver.quit()"
   ]
  },
  {
   "cell_type": "code",
   "execution_count": null,
   "id": "5b515421",
   "metadata": {},
   "outputs": [],
   "source": []
  }
 ],
 "metadata": {
  "kernelspec": {
   "display_name": "Python 3 (ipykernel)",
   "language": "python",
   "name": "python3"
  },
  "language_info": {
   "codemirror_mode": {
    "name": "ipython",
    "version": 3
   },
   "file_extension": ".py",
   "mimetype": "text/x-python",
   "name": "python",
   "nbconvert_exporter": "python",
   "pygments_lexer": "ipython3",
   "version": "3.9.16"
  }
 },
 "nbformat": 4,
 "nbformat_minor": 5
}
